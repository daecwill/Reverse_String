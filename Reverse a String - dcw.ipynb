{
 "cells": [
  {
   "cell_type": "markdown",
   "metadata": {},
   "source": [
    "Reverse a String – Enter a string and the program will reverse it and print it out."
   ]
  },
  {
   "cell_type": "code",
   "execution_count": 1,
   "metadata": {},
   "outputs": [
    {
     "name": "stdout",
     "output_type": "stream",
     "text": [
      "Please input a string for reversal:\t\n",
      "Pig Latin is a game of alterations played on the English language game. To create the Pig Latin form of an English word the initial consonant sound is transposed to the end of the word and an ay is affixed (Ex.: \"banana\" would yield anana-bay)\n",
      "\n",
      "Reversed:\n",
      " )yab-anana dleiy dluow \"ananab\" :.xE( dexiffa si ya na dna drow eht fo dne eht ot desopsnart si dnuos tnanosnoc laitini eht drow hsilgnE na fo mrof nitaL giP eht etaerc oT .emag egaugnal hsilgnE eht no deyalp snoitaretla fo emag a si nitaL giP\n"
     ]
    }
   ],
   "source": [
    "print(\"Please input a string for reversal:\\t\")\n",
    "text = input()\n",
    "\n",
    "t1 = \"\"\n",
    "i = len(text) - 1\n",
    "while i >= 0 :\n",
    "    t1 += text[i]\n",
    "    i -= 1\n",
    "\n",
    "print()\n",
    "print(f\"Reversed:\\n {t1}\")\n"
   ]
  },
  {
   "cell_type": "code",
   "execution_count": null,
   "metadata": {},
   "outputs": [],
   "source": []
  }
 ],
 "metadata": {
  "kernelspec": {
   "display_name": "Python 3",
   "language": "python",
   "name": "python3"
  },
  "language_info": {
   "codemirror_mode": {
    "name": "ipython",
    "version": 3
   },
   "file_extension": ".py",
   "mimetype": "text/x-python",
   "name": "python",
   "nbconvert_exporter": "python",
   "pygments_lexer": "ipython3",
   "version": "3.8.5"
  }
 },
 "nbformat": 4,
 "nbformat_minor": 4
}
